{
  "nbformat": 4,
  "nbformat_minor": 0,
  "metadata": {
    "colab": {
      "provenance": []
    },
    "kernelspec": {
      "name": "python3",
      "display_name": "Python 3"
    },
    "language_info": {
      "name": "python"
    }
  },
  "cells": [
    {
      "cell_type": "code",
      "execution_count": null,
      "metadata": {
        "colab": {
          "base_uri": "https://localhost:8080/"
        },
        "id": "johGshMCm-vJ",
        "outputId": "ed296aec-36a8-4054-c227-126eb6eb2c52"
      },
      "outputs": [
        {
          "output_type": "stream",
          "name": "stdout",
          "text": [
            "📊 Dataset:\n",
            "   Hours_Studied  Attendance  Pass/Fail\n",
            "0              5          85          1\n",
            "1              2          60          0\n",
            "2              4          75          1\n",
            "3              1          50          0\n",
            "4              3          70          1\n",
            "5              6          90          1\n",
            "\n",
            "✅ Model Accuracy: 1.0\n",
            "\n",
            "🔮 Prediction for [4 hrs, 80% attendance]: Pass\n"
          ]
        },
        {
          "output_type": "stream",
          "name": "stderr",
          "text": [
            "/usr/local/lib/python3.11/dist-packages/sklearn/utils/validation.py:2739: UserWarning: X does not have valid feature names, but LogisticRegression was fitted with feature names\n",
            "  warnings.warn(\n"
          ]
        }
      ],
      "source": [
        "\n",
        "import pandas as pd\n",
        "from sklearn.model_selection import train_test_split\n",
        "from sklearn.linear_model import LogisticRegression\n",
        "from sklearn.metrics import accuracy_score\n",
        "\n",
        "data = {\n",
        "    'Hours_Studied': [5, 2, 4, 1, 3, 6],\n",
        "    'Attendance': [85, 60, 75, 50, 70, 90],\n",
        "    'Pass/Fail': [1, 0, 1, 0, 1, 1]\n",
        "}\n",
        "df = pd.DataFrame(data)\n",
        "\n",
        "print(\"📊 Dataset:\")\n",
        "print(df)\n",
        "\n",
        "X = df[['Hours_Studied', 'Attendance']]\n",
        "y = df['Pass/Fail']\n",
        "\n",
        "X_train, X_test, y_train, y_test = train_test_split(X, y, test_size=0.3, random_state=0)\n",
        "\n",
        "model = LogisticRegression()\n",
        "model.fit(X_train, y_train)\n",
        "\n",
        "y_pred = model.predict(X_test)\n",
        "accuracy = accuracy_score(y_test, y_pred)\n",
        "print(\"\\n✅ Model Accuracy:\", accuracy)\n",
        "\n",
        "new_data = [[4, 80]]  # 4 hours studied, 80% attendance\n",
        "prediction = model.predict(new_data)\n",
        "print(\"\\n🔮 Prediction for [4 hrs, 80% attendance]:\", \"Pass\" if prediction[0]==1 else \"Fail\")\n"
      ]
    }
  ]
}